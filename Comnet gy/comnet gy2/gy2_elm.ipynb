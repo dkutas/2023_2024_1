{
 "cells": [
  {
   "cell_type": "code",
   "execution_count": 9,
   "metadata": {},
   "outputs": [
    {
     "name": "stdout",
     "output_type": "stream",
     "text": [
      "b'\\x01\\x00\\x00\\x00ab\\x00\\x00\\xcd\\xcc,@'\n",
      "(1, b'ab', 2.700000047683716)\n"
     ]
    }
   ],
   "source": [
    "import struct\n",
    "\n",
    "values=(1,b'ab',2.7)\n",
    "packer = struct.Struct('i 2s f') #Int , char[2], float\n",
    "#The previous line shows the format of the sent data\n",
    "packed_data = packer.pack(*values)\n",
    "print(packed_data)\n",
    "unpacker = struct.Struct('i 2s f')\n",
    "unpacked_data= packer.unpack(packed_data)\n",
    "print(unpacked_data)"
   ]
  },
  {
   "cell_type": "code",
   "execution_count": 10,
   "metadata": {},
   "outputs": [
    {
     "name": "stdout",
     "output_type": "stream",
     "text": [
      "12\n",
      "12\n"
     ]
    }
   ],
   "source": [
    "import struct\n",
    "\n",
    "\n",
    "\n",
    "print(struct.calcsize('i 2s f'))\n",
    "\n",
    "print(packer.size)"
   ]
  },
  {
   "cell_type": "code",
   "execution_count": 13,
   "metadata": {},
   "outputs": [
    {
     "name": "stdout",
     "output_type": "stream",
     "text": [
      "(2023, b'jan', 13)\n"
     ]
    }
   ],
   "source": [
    "import struct\n",
    "packer = struct.Struct('i3si')\n",
    "with open ('dates.bin', 'wb') as f:\n",
    "    for i in range(5):\n",
    "        values = (2020+i, b'jan',10+i)\n",
    "        packed_data = packer.pack(*values)\n",
    "        f.write(packed_data)\n",
    "        \n",
    "with open ('dates.bin','rb')as f:\n",
    "    f.seek(packer.size * 3)\n",
    "    data= f.read(packer.size)\n",
    "    print(packer.unpack(data))"
   ]
  },
  {
   "cell_type": "code",
   "execution_count": 17,
   "metadata": {},
   "outputs": [
    {
     "name": "stdout",
     "output_type": "stream",
     "text": [
      "b'Hello'\n",
      "b'Hello\\x00\\x00\\x00'\n"
     ]
    }
   ],
   "source": [
    "import struct\n",
    "\n",
    "str = 'Hello'\n",
    "print(str.encode())\n",
    "print(struct.pack('8s',str.encode()))"
   ]
  },
  {
   "cell_type": "code",
   "execution_count": 26,
   "metadata": {},
   "outputs": [
    {
     "name": "stdout",
     "output_type": "stream",
     "text": [
      "b'Hello\\x00\\x00\\x00'\n",
      "Hello\n"
     ]
    }
   ],
   "source": [
    "import struct\n",
    "d = struct.pack('8s', str.encode())\n",
    "print(d)\n",
    "print(d.decode().strip('\\x00'))"
   ]
  },
  {
   "cell_type": "code",
   "execution_count": 35,
   "metadata": {},
   "outputs": [
    {
     "name": "stdout",
     "output_type": "stream",
     "text": [
      "93.184.216.34\n",
      "www.example.org\n",
      "[]\n",
      "['93.184.216.34']\n"
     ]
    }
   ],
   "source": [
    "import socket\n",
    "\n",
    "hostip = socket.gethostbyname('www.example.org')\n",
    "print(hostip)\n",
    "hostname, aliases, addresses = socket.gethostbyname_ex('www.example.org')\n",
    "print(hostname)\n",
    "print(aliases)\n",
    "print(addresses)"
   ]
  },
  {
   "cell_type": "code",
   "execution_count": 2,
   "metadata": {},
   "outputs": [
    {
     "name": "stdout",
     "output_type": "stream",
     "text": [
      "some error\n",
      "some error\n",
      "some error\n",
      "some error\n",
      "some error\n",
      "some error\n",
      "echo\n",
      "6\n",
      "some error\n",
      "discard\n",
      "8\n",
      "some error\n",
      "systat\n",
      "10\n",
      "some error\n",
      "daytime\n",
      "12\n",
      "some error\n",
      "some error\n",
      "some error\n",
      "qotd\n",
      "16\n",
      "some error\n",
      "chargen\n",
      "18\n",
      "ftp-data\n",
      "19\n",
      "ftp\n",
      "20\n",
      "ssh\n",
      "21\n",
      "telnet\n",
      "22\n",
      "some error\n",
      "smtp\n",
      "24\n",
      "some error\n",
      "some error\n",
      "some error\n",
      "some error\n",
      "some error\n",
      "some error\n",
      "some error\n",
      "some error\n",
      "some error\n",
      "some error\n",
      "some error\n",
      "time\n",
      "36\n",
      "some error\n",
      "some error\n",
      "some error\n",
      "some error\n",
      "nameserver\n",
      "41\n",
      "nicname\n",
      "42\n",
      "some error\n",
      "some error\n",
      "some error\n",
      "some error\n",
      "some error\n",
      "some error\n",
      "some error\n",
      "some error\n",
      "some error\n",
      "domain\n",
      "52\n",
      "some error\n",
      "some error\n",
      "some error\n",
      "some error\n",
      "some error\n",
      "some error\n",
      "some error\n",
      "some error\n",
      "some error\n",
      "some error\n",
      "some error\n",
      "some error\n",
      "some error\n",
      "some error\n",
      "some error\n",
      "some error\n",
      "gopher\n",
      "69\n",
      "some error\n",
      "some error\n",
      "some error\n",
      "some error\n",
      "some error\n",
      "some error\n",
      "some error\n",
      "some error\n",
      "finger\n",
      "78\n",
      "http\n",
      "79\n",
      "hosts2-ns\n",
      "80\n",
      "some error\n",
      "some error\n",
      "some error\n",
      "some error\n",
      "some error\n",
      "some error\n",
      "kerberos\n",
      "87\n",
      "some error\n",
      "some error\n",
      "some error\n",
      "some error\n",
      "some error\n",
      "some error\n",
      "some error\n",
      "some error\n",
      "some error\n",
      "some error\n",
      "some error\n",
      "some error\n"
     ]
    }
   ],
   "source": [
    "import socket\n",
    "for i in range(100):\n",
    "    try:\n",
    "        print (socket.getservbyport(i+1,'tcp'))\n",
    "        print(i)\n",
    "    except:\n",
    "        print('some error')\n",
    "    "
   ]
  }
 ],
 "metadata": {
  "kernelspec": {
   "display_name": "Python 3",
   "language": "python",
   "name": "python3"
  },
  "language_info": {
   "codemirror_mode": {
    "name": "ipython",
    "version": 3
   },
   "file_extension": ".py",
   "mimetype": "text/x-python",
   "name": "python",
   "nbconvert_exporter": "python",
   "pygments_lexer": "ipython3",
   "version": "3.11.1"
  },
  "orig_nbformat": 4
 },
 "nbformat": 4,
 "nbformat_minor": 2
}
