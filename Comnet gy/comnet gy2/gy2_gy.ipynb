{
 "cells": [
  {
   "cell_type": "code",
   "execution_count": 45,
   "metadata": {},
   "outputs": [
    {
     "name": "stdout",
     "output_type": "stream",
     "text": [
      "['C:\\\\Users\\\\domonkos.kutas\\\\AppData\\\\Roaming\\\\Python\\\\Python311\\\\site-packages\\\\ipykernel_launcher.py', '--ip=127.0.0.1', '--stdin=9012', '--control=9010', '--hb=9009', '--Session.signature_scheme=\"hmac-sha256\"', '--Session.key=b\"e304306e-3c5e-4fb9-ae39-cbbb09a2cbb5\"', '--shell=9011', '--transport=\"tcp\"', '--iopub=9013', '--f=c:\\\\Users\\\\domonkos.kutas\\\\AppData\\\\Roaming\\\\jupyter\\\\runtime\\\\kernel-v2-13328qgCk3dlN25B6.json']\n",
      "157.181.1.232\n",
      "http\n"
     ]
    }
   ],
   "source": [
    "import socket\n",
    "import struct\n",
    "import sys\n",
    "\n",
    "print(sys.argv)\n",
    "\n",
    "\n",
    "\n",
    "packer = struct.Struct('20si')\n",
    "\n",
    "domains = ('www.this.com','www.that.com','www.these.com','www.those.com','www.my.com')\n",
    "\n",
    "\n",
    "def get_service_by_port(row):\n",
    "    with open ('domains.bin','rb')as f:\n",
    "        f.seek(packer.size * row)\n",
    "        dataInBin = f.read(packer.size)\n",
    "        data = packer.unpack(dataInBin)\n",
    "        port = data[1]\n",
    "        global resp\n",
    "        try:\n",
    "            resp = socket.getservbyport(port,'tcp')\n",
    "        except:\n",
    "            resp ='err'\n",
    "    return resp\n",
    "\n",
    "def get_adress_by_domain(row):\n",
    "    with open ('domains.bin','rb')as f:\n",
    "        f.seek(packer.size * row)\n",
    "        dataInBin = f.read(packer.size)\n",
    "        data = packer.unpack(dataInBin)\n",
    "        domain = data[0].decode().strip('\\x00')\n",
    "        hostip = socket.gethostbyname(domain)\n",
    "    return hostip\n",
    "\n",
    "print(get_adress_by_domain(1))\n",
    "print(get_service_by_port(5))"
   ]
  },
  {
   "cell_type": "code",
   "execution_count": null,
   "metadata": {},
   "outputs": [],
   "source": []
  }
 ],
 "metadata": {
  "kernelspec": {
   "display_name": "Python 3",
   "language": "python",
   "name": "python3"
  },
  "language_info": {
   "codemirror_mode": {
    "name": "ipython",
    "version": 3
   },
   "file_extension": ".py",
   "mimetype": "text/x-python",
   "name": "python",
   "nbconvert_exporter": "python",
   "pygments_lexer": "ipython3",
   "version": "3.11.1"
  },
  "orig_nbformat": 4
 },
 "nbformat": 4,
 "nbformat_minor": 2
}
